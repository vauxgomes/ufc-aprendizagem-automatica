{
 "cells": [
  {
   "cell_type": "markdown",
   "id": "ecb40aa9",
   "metadata": {},
   "source": [
    "# Lista 5 - SVM e comitês de modelos\n",
    "\n",
    "<span style=\"position: absolute; top: 10px; right: 10px; background: green; padding: 0.5em; color: white; border-radius: 8px; font-weight: bold\">Vaux Gomes</span>\n",
    "\n",
    "### Importações"
   ]
  },
  {
   "cell_type": "code",
   "execution_count": 1,
   "id": "a3dd608a",
   "metadata": {
    "scrolled": true
   },
   "outputs": [],
   "source": [
    "import time\n",
    "\n",
    "import numpy as np\n",
    "import matplotlib.pyplot as plt\n",
    "\n",
    "from sklearn.svm import SVC\n",
    "from sklearn.ensemble import RandomForestClassifier as RFC\n",
    "\n",
    "from sklearn.model_selection import GridSearchCV\n",
    "from sklearn.model_selection import train_test_split\n",
    "\n",
    "from sklearn.metrics import classification_report\n",
    "from sklearn.metrics import roc_curve, auc\n",
    "from sklearn.metrics import precision_recall_curve\n",
    "from sklearn.metrics import PrecisionRecallDisplay\n",
    "\n",
    "import warnings\n",
    "warnings.filterwarnings('ignore')"
   ]
  },
  {
   "cell_type": "markdown",
   "id": "27768d68",
   "metadata": {},
   "source": [
    "### Funções auxiliares"
   ]
  },
  {
   "cell_type": "code",
   "execution_count": 2,
   "id": "13db42b6",
   "metadata": {},
   "outputs": [],
   "source": [
    "def timed_fit(mdl, X_train, y_train):\n",
    "    # Start\n",
    "    start = time.time()\n",
    "    # Fit\n",
    "    mdl.fit(X_train, y_train)\n",
    "    # End\n",
    "    end   = time.time() \n",
    "    \n",
    "    # print(f'Start Time: {start:>2}')\n",
    "    # print(f'End Time: {end:>2}')\n",
    "    print(f'Fitting time: {end - start:.3f}s ≈ {(end - start) // 60}m')  "
   ]
  },
  {
   "cell_type": "markdown",
   "id": "de930ee4",
   "metadata": {},
   "source": [
    "### Loading"
   ]
  },
  {
   "cell_type": "code",
   "execution_count": 3,
   "id": "f6f8e01d",
   "metadata": {},
   "outputs": [
    {
     "name": "stdout",
     "output_type": "stream",
     "text": [
      "California: (2000, 9)\n"
     ]
    }
   ],
   "source": [
    "cali = np.genfromtxt('californiabin.csv', delimiter=',')\n",
    "np.random.shuffle(cali)\n",
    "\n",
    "print(f'California: {cali.shape}')"
   ]
  },
  {
   "cell_type": "markdown",
   "id": "66729266",
   "metadata": {},
   "source": [
    "### Split\n",
    "\n",
    "Considerando uma divisão de 80% dos padrões para treinamento e 20% para teste"
   ]
  },
  {
   "cell_type": "code",
   "execution_count": 4,
   "id": "56ab45bc",
   "metadata": {},
   "outputs": [],
   "source": [
    "X = cali[:, :-1]\n",
    "y = cali[:, -1]\n",
    "\n",
    "X_train, X_test, \\\n",
    "y_train, y_test = train_test_split(X, y, test_size=0.2, random_state=73)"
   ]
  },
  {
   "cell_type": "markdown",
   "id": "53cbc131",
   "metadata": {},
   "source": [
    "## Questão 1\n",
    "\n",
    "Considere o conjunto de dados disponível em californiabin.csv, organizado em 9 colunas, sendo as 8 primeiras colunas os atributos e a última coluna a saída. Os 8 atributos são usados na predição de preços de casas em distritos da Califórnia na década de 1990. A saída é binária: 0, para abaixo da mediana dos preços; 1, para acima da mediana dos preços. \n",
    "\n",
    "#### SVM\n",
    "- Kernel: _RBF_\n",
    "- $C \\rightarrow 2^{−5}, 2^{−3}, 2^{−1}, \\dots, 2^{11}, 2^{13}, 2^{15}$\n",
    "- $\\gamma \\rightarrow 2^{−15}, 2^{−13}, 2^{−11}, \\dots, 2^1, 2^2, 2^3$\n",
    "\n",
    "<div class=\"alert alert-block alert-warning\">\n",
    "    <b>Atenção:</b> Esse 2<sup>2</sup> parece quebrar a sequência de números. Adicionei \"manualmente\".\n",
    "</div>"
   ]
  },
  {
   "cell_type": "code",
   "execution_count": 5,
   "id": "fa40096b",
   "metadata": {},
   "outputs": [
    {
     "name": "stdout",
     "output_type": "stream",
     "text": [
      "Fitting 10 folds for each of 121 candidates, totalling 1210 fits\n",
      "Fitting time: 55.889s ≈ 0.0m\n"
     ]
    }
   ],
   "source": [
    "# Params\n",
    "parameters = {\n",
    "    'kernel': ['rbf'], \n",
    "    'C': [2**i for i in range(-5, 17, 2)],\n",
    "    'gamma': [2**i for i in range(-15, 4, 2)]\n",
    "}\n",
    "\n",
    "# 2**2\n",
    "parameters['gamma'].append(4)\n",
    "\n",
    "# Model Search\n",
    "svc = GridSearchCV(SVC(), parameters, cv=10, n_jobs=-1, refit=True, verbose=True)\n",
    "\n",
    "# Fit\n",
    "timed_fit(svc, X_train, y_train)"
   ]
  },
  {
   "cell_type": "markdown",
   "id": "3ff702ed",
   "metadata": {},
   "source": [
    "##### Parâmetros"
   ]
  },
  {
   "cell_type": "code",
   "execution_count": 6,
   "id": "ef8c1092",
   "metadata": {},
   "outputs": [
    {
     "name": "stdout",
     "output_type": "stream",
     "text": [
      "Melhores parâmetros: {'C': 32768, 'gamma': 3.0517578125e-05, 'kernel': 'rbf'}\n"
     ]
    }
   ],
   "source": [
    "# print(f'Melhor modelo: {svc.best_estimator_}')\n",
    "print(f'Melhores parâmetros: {svc.best_params_}')"
   ]
  },
  {
   "cell_type": "markdown",
   "id": "26f850e2",
   "metadata": {},
   "source": [
    "##### Métricas"
   ]
  },
  {
   "cell_type": "code",
   "execution_count": 7,
   "id": "20f81293",
   "metadata": {},
   "outputs": [
    {
     "name": "stdout",
     "output_type": "stream",
     "text": [
      "              precision    recall  f1-score   support\n",
      "\n",
      "         0.0       0.86      0.78      0.82       217\n",
      "         1.0       0.76      0.85      0.81       183\n",
      "\n",
      "    accuracy                           0.81       400\n",
      "   macro avg       0.81      0.82      0.81       400\n",
      "weighted avg       0.82      0.81      0.81       400\n",
      "\n"
     ]
    }
   ],
   "source": [
    "# Test\n",
    "best_svc = svc.best_estimator_\n",
    "y_hat = best_svc.predict(X_test)\n",
    "\n",
    "# Report\n",
    "print(classification_report(y_test, y_hat))"
   ]
  },
  {
   "cell_type": "markdown",
   "id": "39eb1b1d",
   "metadata": {},
   "source": [
    "##### ROC\n",
    "\n",
    "https://machinelearningmastery.com/roc-curves-and-precision-recall-curves-for-classification-in-python/\n",
    "https://datascience.stackexchange.com/questions/69442/plotting-roc-auc-for-svm-algorithm\n",
    "\n",
    "> The ROC curve requires probability estimates (or at least a realistic rank-ordering), which one-class SVM doesn't really try to produce. When you call roc_auc_score on the results of predict, you're generating an ROC curve with only three points: the lower-left, the upper-right, and a single point representing the model's decision function. This may be useful, but it isn't a traditional auROC."
   ]
  },
  {
   "cell_type": "code",
   "execution_count": 8,
   "id": "b97751da",
   "metadata": {
    "scrolled": false
   },
   "outputs": [
    {
     "data": {
      "text/plain": [
       "<matplotlib.legend.Legend at 0x7f6336952670>"
      ]
     },
     "execution_count": 8,
     "metadata": {},
     "output_type": "execute_result"
    },
    {
     "data": {
      "image/png": "[encoded data removed]",
      "text/plain": [
       "<Figure size 864x360 with 1 Axes>"
      ]
     },
     "metadata": {
      "needs_background": "light"
     },
     "output_type": "display_data"
    }
   ],
   "source": [
    "#\n",
    "train_fpr, train_tpr, train_thresholds = roc_curve(y_train, best_svc.predict(X_train))\n",
    "test_fpr, test_tpr, test_thresholds    = roc_curve(y_test, y_hat)\n",
    "\n",
    "plt.figure(figsize=(12, 5))\n",
    "# plt.grid()\n",
    "\n",
    "_ = plt.plot(train_fpr, train_tpr, linewidth=2, label=f'Train: {auc(train_fpr, train_tpr):.3f}')\n",
    "_ = plt.plot(test_fpr, test_tpr, 'g--', linewidth=2, label=f'Test: {auc(test_fpr, test_tpr):.3f}')\n",
    "_ = plt.title(\"ROC\")\n",
    "\n",
    "plt.legend()"
   ]
  },
  {
   "cell_type": "markdown",
   "id": "62c83dbc",
   "metadata": {},
   "source": [
    "##### Precision-Recal"
   ]
  },
  {
   "cell_type": "code",
   "execution_count": 9,
   "id": "3aa5a5d4",
   "metadata": {},
   "outputs": [
    {
     "data": {
      "image/png": "[encoded data removed]",
      "text/plain": [
       "<Figure size 864x360 with 1 Axes>"
      ]
     },
     "metadata": {
      "needs_background": "light"
     },
     "output_type": "display_data"
    }
   ],
   "source": [
    "display = PrecisionRecallDisplay.from_estimator(best_svc, X_test, y_test)\n",
    "display.figure_.set_figwidth(12)\n",
    "display.figure_.set_figheight(5)"
   ]
  },
  {
   "cell_type": "markdown",
   "id": "44668702",
   "metadata": {},
   "source": [
    "> Outra forma de exibir a curva **precision-recall** é como segue, mas ela tem bem menos pontos\n",
    "> ```\n",
    "#\n",
    "precision, recall, _ = precision_recall_curve(y_test, y_hat)\n",
    "#\n",
    "display = PrecisionRecallDisplay(precision=precision, recall=recall)\n",
    "display.plot()\n",
    "```"
   ]
  },
  {
   "cell_type": "markdown",
   "id": "6097ee32",
   "metadata": {},
   "source": [
    "#### Random Forest\n",
    "\n",
    "- \\# Estimators $\\rightarrow 10, 20, \\dots, 180, 190, 200$\n",
    "- Profundidade $\\rightarrow 4, 6, 8, 10,$ Máxima (`None`)"
   ]
  },
  {
   "cell_type": "code",
   "execution_count": 10,
   "id": "727baca2",
   "metadata": {},
   "outputs": [
    {
     "name": "stdout",
     "output_type": "stream",
     "text": [
      "Fitting 10 folds for each of 300 candidates, totalling 3000 fits\n",
      "Fitting time: 109.093s ≈ 1.0m\n"
     ]
    }
   ],
   "source": [
    "# Params\n",
    "parameters = {\n",
    "    'n_estimators': list(range(10, 201, 10)),\n",
    "    'max_depth': list(range(4, 11, 2)),\n",
    "    'criterion':  ['gini', 'entropy', 'log_loss']\n",
    "}\n",
    "\n",
    "parameters['max_depth'].append(None)\n",
    "\n",
    "# Model Search\n",
    "rfc = GridSearchCV(RFC(), parameters, cv=10, n_jobs=-1, refit=True, verbose=True)\n",
    "\n",
    "# Fit\n",
    "timed_fit(rfc, X_train, y_train)"
   ]
  },
  {
   "cell_type": "markdown",
   "id": "53985c1f",
   "metadata": {},
   "source": [
    "##### Parâmetros"
   ]
  },
  {
   "cell_type": "code",
   "execution_count": 11,
   "id": "a2e1d044",
   "metadata": {},
   "outputs": [
    {
     "name": "stdout",
     "output_type": "stream",
     "text": [
      "Melhores parâmetros: {'criterion': 'entropy', 'max_depth': 10, 'n_estimators': 130}\n"
     ]
    }
   ],
   "source": [
    "# print(f'Melhor modelo: {rfc.best_estimator_}')\n",
    "print(f'Melhores parâmetros: {rfc.best_params_}')"
   ]
  },
  {
   "cell_type": "markdown",
   "id": "ac865891",
   "metadata": {},
   "source": [
    "##### Métricas"
   ]
  },
  {
   "cell_type": "code",
   "execution_count": 12,
   "id": "34bf6cce",
   "metadata": {},
   "outputs": [
    {
     "name": "stdout",
     "output_type": "stream",
     "text": [
      "              precision    recall  f1-score   support\n",
      "\n",
      "         0.0       0.92      0.82      0.87       217\n",
      "         1.0       0.81      0.91      0.86       183\n",
      "\n",
      "    accuracy                           0.86       400\n",
      "   macro avg       0.87      0.87      0.86       400\n",
      "weighted avg       0.87      0.86      0.87       400\n",
      "\n"
     ]
    }
   ],
   "source": [
    "# Test\n",
    "best_rfc = rfc.best_estimator_\n",
    "y_hat = best_rfc.predict(X_test)\n",
    "\n",
    "# Report\n",
    "print(classification_report(y_test, y_hat))"
   ]
  },
  {
   "cell_type": "markdown",
   "id": "49bfa28a",
   "metadata": {},
   "source": [
    "##### ROC"
   ]
  },
  {
   "cell_type": "code",
   "execution_count": 13,
   "id": "f08f033e",
   "metadata": {},
   "outputs": [
    {
     "data": {
      "text/plain": [
       "<matplotlib.legend.Legend at 0x7f6378764a90>"
      ]
     },
     "execution_count": 13,
     "metadata": {},
     "output_type": "execute_result"
    },
    {
     "data": {
      "image/png": "[encoded data removed]",
      "text/plain": [
       "<Figure size 864x360 with 1 Axes>"
      ]
     },
     "metadata": {
      "needs_background": "light"
     },
     "output_type": "display_data"
    }
   ],
   "source": [
    "#\n",
    "train_fpr, train_tpr, train_thresholds = roc_curve(y_train, best_rfc.predict(X_train))\n",
    "test_fpr, test_tpr, test_thresholds    = roc_curve(y_test, y_hat)\n",
    "\n",
    "plt.figure(figsize=(12, 5))\n",
    "# plt.grid()\n",
    "\n",
    "_ = plt.plot(train_fpr, train_tpr, linewidth=2, label=f'Train: {auc(train_fpr, train_tpr):.3f}')\n",
    "_ = plt.plot(test_fpr, test_tpr, 'g--', linewidth=2, label=f'Test: {auc(test_fpr, test_tpr):.3f}')\n",
    "_ = plt.title(\"ROC\")\n",
    "\n",
    "plt.legend()"
   ]
  },
  {
   "cell_type": "markdown",
   "id": "1ed61a81",
   "metadata": {},
   "source": [
    "##### Precision-Recal"
   ]
  },
  {
   "cell_type": "code",
   "execution_count": 14,
   "id": "35716e17",
   "metadata": {},
   "outputs": [
    {
     "data": {
      "image/png": "[encoded data removed]",
      "text/plain": [
       "<Figure size 864x360 with 1 Axes>"
      ]
     },
     "metadata": {
      "needs_background": "light"
     },
     "output_type": "display_data"
    }
   ],
   "source": [
    "display = PrecisionRecallDisplay.from_estimator(best_rfc, X_test, y_test)\n",
    "display.figure_.set_figwidth(12)\n",
    "display.figure_.set_figheight(5)"
   ]
  }
 ],
 "metadata": {
  "kernelspec": {
   "display_name": "Python 3 (ipykernel)",
   "language": "python",
   "name": "python3"
  },
  "language_info": {
   "codemirror_mode": {
    "name": "ipython",
    "version": 3
   },
   "file_extension": ".py",
   "mimetype": "text/x-python",
   "name": "python",
   "nbconvert_exporter": "python",
   "pygments_lexer": "ipython3",
   "version": "3.8.10"
  }
 },
 "nbformat": 4,
 "nbformat_minor": 5
}
