{
 "cells": [
  {
   "cell_type": "markdown",
   "id": "475a09e1",
   "metadata": {},
   "source": [
    "# Lista 1 Regressão linear, polinomial e regularização\n",
    "\n",
    "## Sumário\n",
    "\n",
    "- Questão 1: [A](#Questão-1-a.), [B](#Questão-1-b.), [C](#Questão-1-c.)\n",
    "- Questão 2: [A](#Questão-2-a.), [B](#Questão-2-b.), [C](#Questão-2-c.), [D](#Questão-2-d.)\n",
    "\n",
    "<span style=\"position: absolute; top: 10px; right: 10px; background: green; padding: 0.5em; color: white; border-radius: 8px; font-weight: bold\">Vaux Gomes</span>\n",
    "\n",
    "## Implementações\n",
    "\n",
    "### Importações"
   ]
  },
  {
   "cell_type": "code",
   "execution_count": 1,
   "id": "a3dd608a",
   "metadata": {
    "scrolled": true
   },
   "outputs": [],
   "source": [
    "import numpy as np\n",
    "import matplotlib.pyplot as plt\n",
    "\n",
    "from sklearn.base import \\\n",
    "    BaseEstimator, RegressorMixin\n",
    "from sklearn.preprocessing import PolynomialFeatures"
   ]
  },
  {
   "cell_type": "markdown",
   "id": "f5cebded",
   "metadata": {},
   "source": [
    "### Métricas"
   ]
  },
  {
   "cell_type": "code",
   "execution_count": 2,
   "id": "16745452",
   "metadata": {
    "scrolled": true
   },
   "outputs": [],
   "source": [
    "def mse(y, y_hat):\n",
    "  ''' Mean squared error '''\n",
    "  return ((y - y_hat)**2).mean()\n",
    "\n",
    "def rmse(y, y_hat):\n",
    "  ''' Root mean squared error '''\n",
    "  return np.sqrt(((y - y_hat)**2).mean())"
   ]
  },
  {
   "cell_type": "markdown",
   "id": "05e0c87d",
   "metadata": {},
   "source": [
    "### Z-score Normalizer"
   ]
  },
  {
   "cell_type": "code",
   "execution_count": 3,
   "id": "43849c34",
   "metadata": {
    "scrolled": true
   },
   "outputs": [],
   "source": [
    "class ZScore():\n",
    "    ''' Z-score Normalizer '''\n",
    "\n",
    "    #\n",
    "    def __init__(self, noise=10**-15):\n",
    "        self.noise = noise\n",
    "\n",
    "    #\n",
    "    def fit_transform(self, X, verbatim=False):\n",
    "        ''' Z-score normalization '''\n",
    "\n",
    "        # Dimension\n",
    "        N = X.shape[0]\n",
    "\n",
    "        # Mean\n",
    "        self.mean = X.mean(axis=0)\n",
    "        \n",
    "        # Mean difference\n",
    "        diff = X - self.mean\n",
    "\n",
    "        # Standard Deviation\n",
    "        self.std = np.sqrt(1/(N-1) * (diff**2).sum(axis=0))\n",
    "        \n",
    "        # Normalized data\n",
    "        X_ = diff/(self.std + self.noise)\n",
    "        \n",
    "        # Data information\n",
    "        if verbatim:\n",
    "            print(f'# Noise: {self.noise}')\n",
    "            print(f'# Data shape: {X.shape} \\n')\n",
    "            print(f'# Data head:\\n{X[:5,:]} \\n')\n",
    "            print(f'# Standard deviation:\\n{self.std} \\n')\n",
    "            print(f'# Normalized data head:\\n{X_[:5,:]} \\n')\n",
    "            \n",
    "        return X_\n",
    "    \n",
    "    #\n",
    "    def restore(self, X):\n",
    "        return self.std * X + self.mean"
   ]
  },
  {
   "cell_type": "markdown",
   "id": "262473e9",
   "metadata": {},
   "source": [
    "### MinMax Normalizer"
   ]
  },
  {
   "cell_type": "code",
   "execution_count": 4,
   "id": "a9b6eeb0",
   "metadata": {},
   "outputs": [],
   "source": [
    "class MinMax():\n",
    "    ''' MinMax Normalizer '''\n",
    "\n",
    "    #\n",
    "    def fit_transform(self, X):\n",
    "        ''' MinMax normalization '''\n",
    "        #\n",
    "        self.min = X.min(axis=0)\n",
    "        self.max = X.max(axis=0)\n",
    "        \n",
    "        #\n",
    "        return (X - self.min)/(self.max - self.min)\n",
    "    \n",
    "    #\n",
    "    def restore(self, X):\n",
    "        return X*(self.max - self.min) + self.min"
   ]
  },
  {
   "cell_type": "markdown",
   "id": "bb8ed11e",
   "metadata": {},
   "source": [
    "### Ordinary Least Squares"
   ]
  },
  {
   "cell_type": "code",
   "execution_count": 5,
   "id": "30e36cf2",
   "metadata": {
    "scrolled": true
   },
   "outputs": [],
   "source": [
    "class LinearRegressionOLS(BaseEstimator, RegressorMixin):\n",
    "    ''' Linear Regression via Ordinary Least Squares (OLS) with Regularization '''\n",
    "\n",
    "    #\n",
    "    def __init__(self, noise=10**-5):\n",
    "        self.noise = noise\n",
    "\n",
    "    #\n",
    "    def fit(self, X, y):\n",
    "        # Auxiliary\n",
    "        n, m = X.shape\n",
    "\n",
    "        # Adding a column of ones\n",
    "        X_ = np.concatenate((np.ones((n,1)), X), axis=1)\n",
    "\n",
    "        # Regularization\n",
    "        l2 = np.eye(m+1) * self.noise\n",
    "\n",
    "        # Calculating ŵ\n",
    "        self.w_hat = np.linalg.inv((X_.T @ X_) + l2) @ X_.T @ y\n",
    "\n",
    "    #\n",
    "    def predict(self, X, y=None):\n",
    "        # Auxiliary\n",
    "        N = X.shape[0]\n",
    "\n",
    "        # Adding a column of ones\n",
    "        X_ = np.concatenate((np.ones((N,1)), X), axis=1)\n",
    "\n",
    "        # Predictions\n",
    "        return X_ @ self.w_hat\n",
    "    \n",
    "    #\n",
    "    def __str__(self):\n",
    "        return f'Ordinary Least Squares: {np.squeeze(self.w_hat)}'"
   ]
  },
  {
   "cell_type": "markdown",
   "id": "429b0e28",
   "metadata": {},
   "source": [
    "### Gradient Decent"
   ]
  },
  {
   "cell_type": "code",
   "execution_count": 6,
   "id": "0a82b27d",
   "metadata": {},
   "outputs": [],
   "source": [
    "class LinearRegressionGD(BaseEstimator, RegressorMixin):\n",
    "    ''' Linear Regression via Gradient Descent (GD) '''\n",
    "\n",
    "    #\n",
    "    def __init__(self, alpha=10**-3, max_iter=10**5):\n",
    "        self.max_iter = max_iter\n",
    "        self.alpha = alpha\n",
    "\n",
    "    #\n",
    "    def fit(self, X, y):\n",
    "        # Cleaning\n",
    "        self.costs = []\n",
    "\n",
    "        # Auxiliary\n",
    "        _, m = X.shape\n",
    "\n",
    "        # Initial weights\n",
    "        self.w = np.zeros(2) # y-intercept (b), slope (a)\n",
    "               \n",
    "        # Initial error\n",
    "        self.costs.append(mse(y, self.predict(X)))\n",
    "\n",
    "        # Main loop\n",
    "        for i in range(self.max_iter):\n",
    "            # Step (ax + b)\n",
    "            ew0 = (y - (self.w[0] + self.w[1]*X)).sum()\n",
    "            ew1 = ((y - (self.w[0] + self.w[1]*X))*X).sum()\n",
    "            \n",
    "            # Update\n",
    "            self.w[0] += self.alpha * ew0\n",
    "            self.w[1] += self.alpha * ew1\n",
    "            \n",
    "            # Appending error\n",
    "            self.costs.append(mse(y, self.predict(X)))\n",
    "            \n",
    "            # Stopping iterating\n",
    "            a, b = self.costs[-2:]\n",
    "            if (np.isclose(a, b)):\n",
    "                print(f'Ended at iteration {i}')\n",
    "                return\n",
    "         \n",
    "    #\n",
    "    def predict(self, X, y=None):\n",
    "        return self.w[0] + self.w[1]*X\n",
    "    \n",
    "    #\n",
    "    def __str__(self):\n",
    "        return f'Linear Regression via Gradient Descent: {self.w}'"
   ]
  },
  {
   "cell_type": "markdown",
   "id": "475e2970",
   "metadata": {},
   "source": [
    "### Stochastic Gradient Decent"
   ]
  },
  {
   "cell_type": "code",
   "execution_count": 7,
   "id": "33c0a955",
   "metadata": {},
   "outputs": [],
   "source": [
    "# https://en.wikipedia.org/wiki/Stochastic_gradient_descent\n",
    "\n",
    "class LinearRegressionSGD(BaseEstimator, RegressorMixin):\n",
    "    ''' Linear Regression via Stochastic Gradient Descent (SGD) '''\n",
    "\n",
    "    #\n",
    "    def __init__(self, alpha=10**-3, max_iter=10**5):\n",
    "        self.max_iter = max_iter\n",
    "        self.alpha = alpha\n",
    "\n",
    "    #\n",
    "    def fit(self, X, y):\n",
    "        # Cleaning\n",
    "        self.costs = []\n",
    "\n",
    "        # Auxiliary\n",
    "        n, m = X.shape\n",
    "\n",
    "        # Initial weights\n",
    "        self.w = np.zeros(2) # y-intercept (b), slope (a)\n",
    "               \n",
    "        # Initial error\n",
    "        self.costs.append(mse(y, self.predict(X)))\n",
    "        \n",
    "        # Indexes\n",
    "        idx = list(range(n))\n",
    "\n",
    "        # Main loop\n",
    "        for i in range(self.max_iter):\n",
    "            # Everyday I'm Shuffling\n",
    "            np.random.shuffle(idx)\n",
    "            \n",
    "            for j in idx:\n",
    "                # Step (ax + b)\n",
    "                ew0 = (y[j] - (self.w[0] + self.w[1]*X[j])).sum()\n",
    "                ew1 = ((y[j] - (self.w[0] + self.w[1]*X[j]))*X[j]).sum()\n",
    "            \n",
    "                # Update\n",
    "                self.w[0] += self.alpha * ew0\n",
    "                self.w[1] += self.alpha * ew1\n",
    "            \n",
    "                # Appending error\n",
    "                self.costs.append(mse(y, self.predict(X)))\n",
    "\n",
    "            # err = self.costs[-1]\n",
    "         \n",
    "    #\n",
    "    def predict(self, X, y=None):\n",
    "        return self.w[0] + self.w[1]*X\n",
    "    \n",
    "    #\n",
    "    def __str__(self):\n",
    "        return f'Linear Regression via Stochastic Gradient Descent: {self.w}'"
   ]
  },
  {
   "cell_type": "markdown",
   "id": "e1d98c7e",
   "metadata": {},
   "source": [
    "---\n",
    "\n",
    "## Questão 1\n",
    "\n",
    "Considere o conjunto de dados disponível em `artificial1d.csv` organizado em\n",
    "duas colunas, $x$ e $y$. Seja um modelo de regressão linear para $\\hat{y} = f(x)$."
   ]
  },
  {
   "cell_type": "code",
   "execution_count": 8,
   "id": "ac1c6ac5",
   "metadata": {
    "scrolled": true
   },
   "outputs": [
    {
     "name": "stdout",
     "output_type": "stream",
     "text": [
      "Artificial: (30, 2)\n",
      "Califórnia: (1000, 9)\n"
     ]
    }
   ],
   "source": [
    "# Importação dos conjuntos de dados\n",
    "artificial = np.genfromtxt('artificial1d.csv', delimiter=',')\n",
    "california = np.genfromtxt('california.csv', delimiter=',')\n",
    "\n",
    "print(f'Artificial: {artificial.shape}')\n",
    "print(f'Califórnia: {california.shape}')"
   ]
  },
  {
   "cell_type": "markdown",
   "id": "8d6bda73",
   "metadata": {},
   "source": [
    "### Questão 1 a.\n",
    "\n",
    "Apresente os <u>parâmetros do modelo</u> e o <u>MSE</u> (erro quadrático médio) obtidos pelo algoritmo <big><strong>OLS (mínimos quadrados ordinários)</strong></big>. Plote a reta resultante sobre os dados.\n",
    "\n",
    "[Início ↑](#Sumário)"
   ]
  },
  {
   "cell_type": "code",
   "execution_count": 9,
   "id": "08ecd03c",
   "metadata": {},
   "outputs": [],
   "source": [
    "# Normalização dos dados\n",
    "normalizer = ZScore()\n",
    "artificial_norm = normalizer.fit_transform(artificial)\n",
    "\n",
    "# Separando variáveis independentes e dependente\n",
    "X = artificial_norm[:, :-1]\n",
    "y = artificial_norm[:, -1:]"
   ]
  },
  {
   "cell_type": "code",
   "execution_count": 10,
   "id": "b07ed4bb",
   "metadata": {},
   "outputs": [
    {
     "name": "stdout",
     "output_type": "stream",
     "text": [
      "Ordinary Least Squares: [0.        0.8974936]\n",
      "MSE: 0.1880212\n"
     ]
    }
   ],
   "source": [
    "# Treinamento\n",
    "model = LinearRegressionOLS()\n",
    "model.fit(X, y)\n",
    "\n",
    "print(model)\n",
    "\n",
    "# Predição\n",
    "y_hat = model.predict(X)\n",
    "\n",
    "# Erro de treinamento\n",
    "print(f'MSE: {mse(y, y_hat):.7}')"
   ]
  },
  {
   "cell_type": "code",
   "execution_count": 11,
   "id": "f64ed9f8",
   "metadata": {},
   "outputs": [
    {
     "data": {
      "image/png": "[encoded data removed]",
      "text/plain": [
       "<Figure size 720x432 with 1 Axes>"
      ]
     },
     "metadata": {
      "needs_background": "light"
     },
     "output_type": "display_data"
    }
   ],
   "source": [
    "# Plot\n",
    "plt.figure(figsize=(10, 6))\n",
    "\n",
    "#\n",
    "plt.plot(X, y_hat, color='b', label=\"OLS\")\n",
    "plt.scatter(np.squeeze(X), y, color='r', s=[150], alpha=0.5, label=\"Dados\")\n",
    "\n",
    "#\n",
    "plt.title(\"Artificial\")\n",
    "plt.xlabel(\"Características$^N$\")\n",
    "plt.ylabel(\"Target\")\n",
    "\n",
    "#\n",
    "plt.text(-1.5, 1, f'MSE: {mse(y, y_hat):.7}')\n",
    "\n",
    "#\n",
    "plt.legend(loc=\"upper left\")\n",
    "plt.show()"
   ]
  },
  {
   "cell_type": "markdown",
   "id": "45c8eb1a",
   "metadata": {},
   "source": [
    "### Questão 1 b.\n",
    "#### Gradient Descent\n",
    "Apresente os <u>parâmetros do modelo</u>, o <u>MSE</u> e a <u>curva de aprendizagem</u> obtidos pelo algoritmo <big><strong>GD (gradiente descendente)</strong></big>. Plote a reta resultante sobre os dados.\n",
    "\n",
    "> **Nota**: Os valores de $X$ e $y$ foram definidos na questão anterior\n",
    "\n",
    "[Início ↑](#Sumário)"
   ]
  },
  {
   "cell_type": "code",
   "execution_count": 12,
   "id": "1f394a90",
   "metadata": {},
   "outputs": [
    {
     "name": "stdout",
     "output_type": "stream",
     "text": [
      "Ended at iteration 172\n",
      "Linear Regression via Gradient Descent: [2.84217094e-17 8.91973663e-01]\n",
      "MSE: 0.1880507\n"
     ]
    }
   ],
   "source": [
    "# Treinamento\n",
    "model = LinearRegressionGD(max_iter=200)\n",
    "model.fit(X, y)\n",
    "\n",
    "print(model)\n",
    "\n",
    "# Predição\n",
    "y_hat = model.predict(X)\n",
    "\n",
    "# Erro de treinamento\n",
    "print(f'MSE: {mse(y, y_hat):.7}')"
   ]
  },
  {
   "cell_type": "code",
   "execution_count": 13,
   "id": "9b2baebc",
   "metadata": {},
   "outputs": [
    {
     "data": {
      "image/png": "[encoded data removed]",
      "text/plain": [
       "<Figure size 720x432 with 1 Axes>"
      ]
     },
     "metadata": {
      "needs_background": "light"
     },
     "output_type": "display_data"
    }
   ],
   "source": [
    "# Plot\n",
    "plt.figure(figsize=(10, 6))\n",
    "\n",
    "#\n",
    "plt.plot(X, y_hat, color='b', label=\"GD\")\n",
    "plt.scatter(np.squeeze(X), y, color='r', s=[150], alpha=0.5, label=\"Dados\")\n",
    "\n",
    "#\n",
    "plt.title(\"Artificial\")\n",
    "plt.xlabel(\"Características$^N$\")\n",
    "plt.ylabel(\"Target\")\n",
    "\n",
    "#\n",
    "plt.text(-1.5, 1, f'MSE: {mse(y, y_hat):.7}')\n",
    "\n",
    "#\n",
    "plt.legend(loc=\"upper left\")\n",
    "plt.show()"
   ]
  },
  {
   "cell_type": "code",
   "execution_count": 14,
   "id": "1a2bcea9",
   "metadata": {
    "scrolled": false
   },
   "outputs": [
    {
     "data": {
      "image/png": "[encoded data removed]",
      "text/plain": [
       "<Figure size 720x432 with 1 Axes>"
      ]
     },
     "metadata": {
      "needs_background": "light"
     },
     "output_type": "display_data"
    }
   ],
   "source": [
    "# Plot: Erro\n",
    "plt.figure(figsize=(10, 6))\n",
    "\n",
    "#\n",
    "plt.plot(model.costs, color='b', lw=1.5, label=\"Erro\")\n",
    "\n",
    "#\n",
    "plt.title(\"Artificial\")\n",
    "plt.xlabel(\"Iterações\")\n",
    "plt.ylabel(\"Erro\")\n",
    "\n",
    "#\n",
    "plt.text(0, 0.2, f'MSE: {mse(y, y_hat):.7}')\n",
    "\n",
    "#\n",
    "plt.legend(loc=\"upper right\")\n",
    "plt.show()"
   ]
  },
  {
   "cell_type": "markdown",
   "id": "37d8e44e",
   "metadata": {},
   "source": [
    "### Questão 1 c.\n",
    "Apresente os <u>parâmetros do modelo</u>, o <u>MSE</u> e a <u>curva de aprendizagem</u>\n",
    "obtidos pelo algoritmo <big><strong>SGD (gradiente descendente estocástico)</strong></big>. Plote a reta resultante sobre os dados.\n",
    "\n",
    "> **Nota**: Os valores de $X$ e $y$ foram definidos anteriormente\n",
    "\n",
    "[Início ↑](#Sumário)"
   ]
  },
  {
   "cell_type": "code",
   "execution_count": 15,
   "id": "211987e0",
   "metadata": {},
   "outputs": [
    {
     "name": "stdout",
     "output_type": "stream",
     "text": [
      "Linear Regression via Stochastic Gradient Descent: [-6.67485852e-05  8.48308170e-01]\n",
      "MSE: 0.1903598\n"
     ]
    }
   ],
   "source": [
    "# Treinamento\n",
    "model = LinearRegressionSGD(max_iter=100)\n",
    "model.fit(X, y)\n",
    "\n",
    "print(model)\n",
    "\n",
    "# Predição\n",
    "y_hat = model.predict(X)\n",
    "\n",
    "# Erro de treinamento\n",
    "print(f'MSE: {mse(y, y_hat):.7}')"
   ]
  },
  {
   "cell_type": "code",
   "execution_count": 16,
   "id": "43aa6d3b",
   "metadata": {
    "scrolled": false
   },
   "outputs": [
    {
     "data": {
      "image/png": "[encoded data removed]",
      "text/plain": [
       "<Figure size 720x432 with 1 Axes>"
      ]
     },
     "metadata": {
      "needs_background": "light"
     },
     "output_type": "display_data"
    }
   ],
   "source": [
    "# Plot\n",
    "plt.figure(figsize=(10, 6))\n",
    "\n",
    "#\n",
    "plt.plot(X, y_hat, color='b', label=\"SGD\")\n",
    "plt.scatter(np.squeeze(X), y, color='r', s=[150], alpha=0.5, label=\"Dados\")\n",
    "\n",
    "#\n",
    "plt.title(\"Artificial\")\n",
    "plt.xlabel(\"Características$^N$\")\n",
    "plt.ylabel(\"Target\")\n",
    "\n",
    "#\n",
    "plt.text(-1.5, 1, f'MSE: {mse(y, y_hat):.7}')\n",
    "\n",
    "#\n",
    "plt.legend(loc=\"upper left\")\n",
    "plt.show()"
   ]
  },
  {
   "cell_type": "code",
   "execution_count": 17,
   "id": "aa53529c",
   "metadata": {
    "scrolled": false
   },
   "outputs": [
    {
     "data": {
      "image/png": "[encoded data removed]",
      "text/plain": [
       "<Figure size 720x432 with 1 Axes>"
      ]
     },
     "metadata": {
      "needs_background": "light"
     },
     "output_type": "display_data"
    }
   ],
   "source": [
    "# Plot: Erro\n",
    "plt.figure(figsize=(10, 6))\n",
    "\n",
    "#\n",
    "plt.plot(model.costs, color='b', lw=1.5, label=\"Erro\")\n",
    "\n",
    "#\n",
    "plt.title(\"Artificial\")\n",
    "plt.xlabel(\"Iterações\")\n",
    "plt.ylabel(\"Erro\")\n",
    "\n",
    "#\n",
    "plt.text(0, 0.2, f'MSE: {mse(y, y_hat):.7}')\n",
    "\n",
    "#\n",
    "plt.legend(loc=\"upper right\")\n",
    "plt.show()"
   ]
  },
  {
   "cell_type": "markdown",
   "id": "a64b2b40",
   "metadata": {},
   "source": [
    "---\n",
    "\n",
    "## Questão 2\n",
    "\n",
    "Considere o conjunto de dados disponível em `california.csv`, organizado em 9 colunas, sendo as 8 primeiras colunas os atributos e a última coluna a saída. Os 8 atributos são usados na predição da mediana de preços de casas em distritos da Califórnia na década de 1990.\n",
    "\n",
    "> Os dados já foram carregados"
   ]
  },
  {
   "cell_type": "code",
   "execution_count": 18,
   "id": "eedd7a1a",
   "metadata": {},
   "outputs": [],
   "source": [
    "# Normalização dos dados\n",
    "normalizer = MinMax()\n",
    "california_norm = normalizer.fit_transform(california)\n",
    "\n",
    "# Separando variáveis independentes e dependente\n",
    "X = california_norm[:, :-1]\n",
    "y = california_norm[:, -1:]"
   ]
  },
  {
   "cell_type": "markdown",
   "id": "d0f75e76",
   "metadata": {},
   "source": [
    "### Questão 2 a.\n",
    "\n",
    "Aleatoriamente, divida o conjunto de dados em treino (80%) e teste (20%).\n",
    "\n",
    "[Início ↑](#Sumário)"
   ]
  },
  {
   "cell_type": "code",
   "execution_count": 19,
   "id": "96f84499",
   "metadata": {},
   "outputs": [],
   "source": [
    "# Split\n",
    "split = int(0.8 * X.shape[0])\n",
    "\n",
    "X_train, X_test = X[:split], X[split:]\n",
    "y_train, y_test = y[:split], y[split:]"
   ]
  },
  {
   "cell_type": "markdown",
   "id": "bbd39ffd",
   "metadata": {},
   "source": [
    "### Questão 2 b.\n",
    "\n",
    "Treine 13 modelos de <big><strong>regressão polinomial</strong></big>, com ordens de 1 a 13. Você <u>pode usar o algoritmo OLS</u>.\n",
    "\n",
    "> Fiz apenas até a ordem 8\n",
    "\n",
    "[Início ↑](#Sumário)"
   ]
  },
  {
   "cell_type": "code",
   "execution_count": 20,
   "id": "6390c736",
   "metadata": {
    "scrolled": true
   },
   "outputs": [
    {
     "name": "stdout",
     "output_type": "stream",
     "text": [
      "Order 1, Order 2, Order 3, Order 4, Order 5, Order 6, Order 7, Order 8, "
     ]
    }
   ],
   "source": [
    "# Erros\n",
    "err_train = []\n",
    "err_test = []\n",
    "\n",
    "# Modelo\n",
    "model = LinearRegressionOLS()\n",
    "\n",
    "for i in range(8):\n",
    "    # Gerando novas features\n",
    "    poly = PolynomialFeatures(i + 1)\n",
    "    \n",
    "    #\n",
    "    X_train_poly = poly.fit_transform(X_train)\n",
    "    X_test_poly = poly.fit_transform(X_test)\n",
    "    \n",
    "    # Treinamento\n",
    "    model.fit(X_train_poly, y_train)\n",
    "\n",
    "    # Predição\n",
    "    y_train_hat = model.predict(X_train_poly)\n",
    "    y_test_hat = model.predict(X_test_poly)\n",
    "    \n",
    "    # Erros\n",
    "    err_train.append(rmse(y_train, y_train_hat))\n",
    "    err_test.append(rmse(y_test, y_test_hat))\n",
    "    \n",
    "    print(f'Order {i + 1}', end=', ')"
   ]
  },
  {
   "cell_type": "markdown",
   "id": "44050231",
   "metadata": {},
   "source": [
    "### Questão 2 c.\n",
    "\n",
    "Reporte o RMSE (raiz quadrada do erro quadrático médio) no treinamento e no teste para cada modelo. Faça um gráfico para o treino e um gráfico para o teste.\n",
    "\n",
    "[Início ↑](#Sumário)"
   ]
  },
  {
   "cell_type": "code",
   "execution_count": 21,
   "id": "14c28494",
   "metadata": {
    "scrolled": false
   },
   "outputs": [
    {
     "data": {
      "image/png": "[encoded data removed]",
      "text/plain": [
       "<Figure size 720x432 with 1 Axes>"
      ]
     },
     "metadata": {
      "needs_background": "light"
     },
     "output_type": "display_data"
    }
   ],
   "source": [
    "# Plot: Erro\n",
    "plt.figure(figsize=(10, 6))\n",
    "\n",
    "#\n",
    "plt.plot(err_train, color='b', lw=1.5, label=\"RMSE Treino\")\n",
    "plt.plot(err_test, color='r', lw=1.5, label=\"RMSE Teste\")\n",
    "\n",
    "#\n",
    "plt.title(\"OLS Poly\")\n",
    "\n",
    "#\n",
    "plt.legend(loc=\"upper right\")\n",
    "plt.show()"
   ]
  },
  {
   "cell_type": "markdown",
   "id": "c53f2449",
   "metadata": {},
   "source": [
    "### Questão 2 d.\n",
    "\n",
    "Repita os 2 itens anteriores incluindo um termo de regularização L2 (por exemplo, com fator λ = 0.01).\n",
    "\n",
    "> Fiz apenas até a ordem 8 também\n",
    "\n",
    "[Início ↑](#Sumário)"
   ]
  },
  {
   "cell_type": "code",
   "execution_count": null,
   "id": "a396bcad",
   "metadata": {
    "scrolled": true
   },
   "outputs": [
    {
     "name": "stdout",
     "output_type": "stream",
     "text": [
      "Order 1, Order 2, Order 3, Order 4, Order 5, Order 6, Order 7, "
     ]
    }
   ],
   "source": [
    "# Erros\n",
    "err_train_l2 = []\n",
    "err_test_l2 = []\n",
    "\n",
    "# Modelo\n",
    "model = LinearRegressionOLS(noise=0.01)\n",
    "\n",
    "for i in range(8):\n",
    "    # Gerando novas features\n",
    "    poly = PolynomialFeatures(i + 1)\n",
    "    \n",
    "    #\n",
    "    X_train_poly = poly.fit_transform(X_train)\n",
    "    X_test_poly = poly.fit_transform(X_test)\n",
    "    \n",
    "    # Treinamento\n",
    "    model.fit(X_train_poly, y_train)\n",
    "\n",
    "    # Predição\n",
    "    y_train_hat = model.predict(X_train_poly)\n",
    "    y_test_hat = model.predict(X_test_poly)\n",
    "    \n",
    "    # Erros\n",
    "    err_train_l2.append(rmse(y_train, y_train_hat))\n",
    "    err_test_l2.append(rmse(y_test, y_test_hat))\n",
    "    \n",
    "    print(f'Order {i + 1}', end=', ')"
   ]
  },
  {
   "cell_type": "code",
   "execution_count": null,
   "id": "8014a385",
   "metadata": {
    "scrolled": false
   },
   "outputs": [],
   "source": [
    "# Plot: Erro\n",
    "plt.figure(figsize=(10, 6))\n",
    "\n",
    "#\n",
    "plt.plot(err_train_l2, color='b', lw=1.5, label=\"RMSE Treino\")\n",
    "plt.plot(err_test_l2, color='r', lw=1.5, label=\"RMSE Teste\")\n",
    "\n",
    "#\n",
    "plt.title(\"OLS Poly L2\")\n",
    "\n",
    "#\n",
    "plt.legend(loc=\"upper right\")\n",
    "plt.show()"
   ]
  }
 ],
 "metadata": {
  "kernelspec": {
   "display_name": "Python 3 (ipykernel)",
   "language": "python",
   "name": "python3"
  },
  "language_info": {
   "codemirror_mode": {
    "name": "ipython",
    "version": 3
   },
   "file_extension": ".py",
   "mimetype": "text/x-python",
   "name": "python",
   "nbconvert_exporter": "python",
   "pygments_lexer": "ipython3",
   "version": "3.8.10"
  }
 },
 "nbformat": 4,
 "nbformat_minor": 5
}
