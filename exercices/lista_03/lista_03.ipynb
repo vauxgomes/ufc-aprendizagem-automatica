{
 "cells": [
  {
   "cell_type": "markdown",
   "id": "ecb40aa9",
   "metadata": {},
   "source": [
    "# Lista 3 - KNN e árvores de decisão\n",
    "\n",
    "## Sumário\n",
    "\n",
    "-   Questão 1: [A](#Questão-1-a.), [B](#Questão-1-b.)\n",
    "\n",
    "<span style=\"position: absolute; top: 10px; right: 10px; background: green; padding: 0.5em; color: white; border-radius: 8px; font-weight: bold\">Vaux Gomes</span>\n",
    "\n",
    "## Implementações\n",
    "\n",
    "### Importações\n"
   ]
  },
  {
   "cell_type": "code",
   "execution_count": 1,
   "id": "a3dd608a",
   "metadata": {
    "scrolled": true
   },
   "outputs": [],
   "source": [
    "import numpy as np\n",
    "import matplotlib.pyplot as plt\n",
    "\n",
    "import sklearn.preprocessing\n",
    "from sklearn.base import \\\n",
    "    BaseEstimator, RegressorMixin\n",
    "from sklearn.preprocessing import PolynomialFeatures\n",
    "from sklearn.metrics import accuracy_score, confusion_matrix\n",
    "\n",
    "import warnings\n",
    "warnings.filterwarnings('ignore')"
   ]
  },
  {
   "cell_type": "markdown",
   "id": "37e31081",
   "metadata": {},
   "source": [
    "### Experimento\n"
   ]
  },
  {
   "cell_type": "code",
   "execution_count": 2,
   "id": "be431a1f",
   "metadata": {},
   "outputs": [],
   "source": [
    "def cross_val(clf, X, y, folds=10, stats=False, progress=False):\n",
    "    ''' Runs a full n-fold cross-validation on clf '''\n",
    "    \n",
    "    # Auxiliary\n",
    "    stats = {\n",
    "        'precision': [], 'acc': [], \n",
    "        'recall': [], 'fscore': []\n",
    "    }\n",
    "    p_size = X.shape[0]/folds # partition size (float)\n",
    "    \n",
    "    # Normalizer\n",
    "    normalizer = MinMax()\n",
    "    \n",
    "    # Labels\n",
    "    labels = np.unique(y_kc2)\n",
    "\n",
    "    # Cross validation\n",
    "    for n in range(folds):\n",
    "        # Partition boundaries\n",
    "        start, end = int(n * p_size), int((n + 1) * p_size)\n",
    "\n",
    "        # Normalized Train\n",
    "        X_train = normalizer.fit_transform(np.concatenate([X[:start], X[end:]]))\n",
    "        y_train = np.concatenate([y[:start], y[end:]])\n",
    "\n",
    "        # Normalized Validation\n",
    "        X_valid = normalizer.transform(X[start:end])\n",
    "        y_valid = y[start:end]\n",
    "        \n",
    "        # Training\n",
    "        clf.fit(X_train, y_train)\n",
    "        \n",
    "        # Prediction\n",
    "        y_hat = clf.predict(X_valid)\n",
    "\n",
    "        # Confusion Matrix\n",
    "        c_matrix = confusion_matrix(y_valid, y_hat, labels=labels)\n",
    "        \n",
    "        # True positive\n",
    "        tp = c_matrix.diagonal()[0]\n",
    "        # False positive + false Negative\n",
    "        fpfn = np.rot90(c_matrix).diagonal().sum()\n",
    "        \n",
    "        # Precision\n",
    "        precision = tp / c_matrix.sum(axis=0)[0]  # (TP + FB)\n",
    "        stats['precision'].append(precision)\n",
    "\n",
    "        # Accuracy\n",
    "        acc = c_matrix.diagonal().sum()/c_matrix.sum()\n",
    "        stats['acc'].append(acc)\n",
    "        \n",
    "        # Recall\n",
    "        recall = tp / c_matrix.sum(axis=1)[0] # (TP + FN)\n",
    "        stats['recall'].append(recall)\n",
    "        \n",
    "        # F1-score\n",
    "        fscore = 2*tp / (2*tp + c_matrix.sum(axis=0)[0])\n",
    "        stats['fscore'].append(fscore)\n",
    "\n",
    "        # Progress printing for watching the magic happening\n",
    "        if progress:\n",
    "            print(end='-')   \n",
    "        \n",
    "    # Printing\n",
    "    if stats:\n",
    "        print('-'*(50 - (n if progress else 0)))\n",
    "        print(f' {clf}')\n",
    "        print('-'*50)\n",
    "        print(f' Precision: {np.nanmean(stats[\"precision\"]):.5} ± {np.nanstd(stats[\"precision\"]):.5}')\n",
    "        print(f' Accuracy.: {np.nanmean(stats[\"acc\"]):.5} ± {np.nanstd(stats[\"acc\"]):.5}')\n",
    "        print(f' Recall...: {np.nanmean(stats[\"recall\"]):.5} ± {np.nanstd(stats[\"recall\"]):.5}')\n",
    "        print(f' F1-score.: {np.nanmean(stats[\"fscore\"]):.5} ± {np.nanstd(stats[\"fscore\"]):.5}')\n",
    "        \n",
    "    # Return\n",
    "    return c_matrix"
   ]
  },
  {
   "cell_type": "markdown",
   "id": "861ed02f",
   "metadata": {},
   "source": [
    "### MinMax Normalizer\n"
   ]
  },
  {
   "cell_type": "code",
   "execution_count": 3,
   "id": "85043ad8",
   "metadata": {},
   "outputs": [],
   "source": [
    "class MinMax():\n",
    "    ''' MinMax Normalizer '''\n",
    "\n",
    "    #\n",
    "    def fit_transform(self, X):\n",
    "        self.min = X.min(axis=0)\n",
    "        self.max = X.max(axis=0)\n",
    "        \n",
    "        return (X - self.min)/(self.max - self.min)\n",
    "    \n",
    "    #\n",
    "    def transform(self, X):\n",
    "        return (X - self.min)/(self.max - self.min)\n",
    "    \n",
    "    #\n",
    "    def restore(self, X):\n",
    "        return X*(self.max - self.min) + self.min"
   ]
  },
  {
   "cell_type": "markdown",
   "id": "429b0e28",
   "metadata": {},
   "source": [
    "### KNN\n"
   ]
  },
  {
   "cell_type": "code",
   "execution_count": 4,
   "id": "0a82b27d",
   "metadata": {},
   "outputs": [],
   "source": [
    "class KNN(BaseEstimator, RegressorMixin):\n",
    "    ''' K-nearest neighbors '''\n",
    "    \n",
    "    EUCLIDIAN = 'euclidian'\n",
    "    MAHALANOBIS = 'mahalanobis'\n",
    "\n",
    "    #\n",
    "    def __init__(self, k=1, f_distance='euclidian', solve_ties=False):\n",
    "        ''' solve_ties: allow decreasing the value of k when ties occur '''\n",
    "\n",
    "\n",
    "        if f_distance.lower() not in [self.EUCLIDIAN, self.MAHALANOBIS]:\n",
    "            raise Exception(f'{f_distance} is not a valid value for f_distance')\n",
    "        \n",
    "        self.k = k\n",
    "        self.solve_ties = solve_ties\n",
    "        self.f_distance = f_distance.lower()\n",
    "        \n",
    "    # \n",
    "    def fit(self, X, y):\n",
    "        self.X = X\n",
    "        self.y = y\n",
    "\n",
    "        #\n",
    "        n_classes = np.unique(y).size\n",
    "\n",
    "        # Safety\n",
    "        if n_classes <= 1:\n",
    "            raise Exception('Warning: your dataset must have more than 1 class')\n",
    "\n",
    "        # Friendly warning\n",
    "        if n_classes % 2 == 0 and self.k % 2 == 0:\n",
    "            warnings.warn(f'Warning: your dataset has {n_classes} classes and you k is equals to {self.k}. It is recommended to choose and odd value for k to avoid ties')\n",
    "         \n",
    "    #\n",
    "    def predict(self, X):        \n",
    "        # Output\n",
    "        Y_hat = []\n",
    "\n",
    "        # Distance function\n",
    "        f_distance = KNN.__euclidian_distance\n",
    "\n",
    "        if self.f_distance != self.EUCLIDIAN:\n",
    "            f_distance = KNN.__mahalanobis_distance\n",
    "\n",
    "        #\n",
    "        for x in X:\n",
    "            distances = f_distance(self.X, x)\n",
    "            distances_sidx = np.argsort(distances)    # Ascending\n",
    "            \n",
    "            #\n",
    "            j = 0\n",
    "            l = len(Y_hat)\n",
    "\n",
    "            # Untying if necessary\n",
    "            while j < self.k and l == len(Y_hat):\n",
    "                classes, counts = np.unique(self.y[distances_sidx[:self.k-j]], \n",
    "                    return_counts=True)\n",
    "\n",
    "                # No ties\n",
    "                if counts.size == 1:\n",
    "                    Y_hat.append(classes[0])\n",
    "                # Possible tie\n",
    "                else:\n",
    "                    # Careless approach\n",
    "                    if not self.solve_ties:\n",
    "                        Y_hat.append(classes[0])\n",
    "                    # Solve tie\n",
    "                    else:\n",
    "                        counts_sidx = np.argsort(-counts)\n",
    "\n",
    "                        # Check tie                    \n",
    "                        if counts[counts_sidx[0]] == counts[counts_sidx[1]]:\n",
    "                            j += 1\n",
    "                        else:\n",
    "                            Y_hat.append(classes[counts_sidx[0]])\n",
    "        \n",
    "        return Y_hat\n",
    "\n",
    "    #\n",
    "    def __euclidian_distance(X, x):\n",
    "        return np.linalg.norm(X  - x, axis=1)\n",
    "    \n",
    "    def __mahalanobis_distance(X, x):\n",
    "        return np.sqrt((x - np.mean(X, axis=0))**2 / np.var(x, axis=0)) # It is a bit expensive"
   ]
  },
  {
   "cell_type": "markdown",
   "id": "e1d98c7e",
   "metadata": {},
   "source": [
    "---\n",
    "\n",
    "## Questão 1\n",
    "\n",
    "Considere o conjunto de dados disponível em `kc2.csv`, organizado em 22 colunas, sendo as 21 primeiras colunas os atributos e a última coluna a saída. Os 21 atributos são referentes à caracterização de códigos-fontes para processamento de dados na NASA. A saída é a indicação de ausência (0) ou existência (1) de\n",
    "defeitos (os dados foram balanceados via subamostragem).\n"
   ]
  },
  {
   "cell_type": "code",
   "execution_count": 5,
   "id": "ac1c6ac5",
   "metadata": {
    "scrolled": true
   },
   "outputs": [
    {
     "name": "stdout",
     "output_type": "stream",
     "text": [
      "KC2: (214, 22)\n",
      "ATENÇÃO OS DADOS FORAM EMBARALHADOS\n"
     ]
    }
   ],
   "source": [
    "# Importação dos conjuntos de dados\n",
    "kc2 = np.genfromtxt('kc2.csv', delimiter=',')\n",
    "np.random.shuffle(kc2)\n",
    "\n",
    "print(f'KC2: {kc2.shape}')\n",
    "print('ATENÇÃO OS DADOS FORAM EMBARALHADOS')"
   ]
  },
  {
   "cell_type": "markdown",
   "id": "f5df81f5",
   "metadata": {},
   "source": [
    "> Dados embaralhados devido a distribuição de classes, mas funciona normalmente sem este embaralhamento"
   ]
  },
  {
   "cell_type": "markdown",
   "id": "f118ed51",
   "metadata": {},
   "source": [
    "### Questão 1 a.\n",
    "\n",
    "Considerando uma validação cruzada em 10 folds, avalie modelos de classificação binária nos dados em questão. Para tanto, use as abordagens abaixo:\n",
    "\n",
    "-   KNN\n",
    "    -   $k = 1$ e distância Euclidiana\n",
    "    -   $k = 1$ e distância Mahalanobis distance\n",
    "    -   $k = 5$ e distância Euclidiana\n",
    "    -   $k = 5$ e distância Mahalanobis distance\n",
    "-   Árvore de decisão (você pode usar uma implementação já existente\n",
    "    com índices de impureza de gini e entropia).\n",
    "\n",
    "$$\\displaystyle\\mbox{Mahalanobis} = \\sqrt{\\frac{(\\mbox{x} - \\bar{x})^2}{\\sigma^2}}$$\n",
    "\n",
    "### Questão 1 b.\n",
    "\n",
    "Para cada modelo criado, reporte valor médio e desvio padrão das métricas de **acurácia**, **revocação**, **precisão** e **F1-score**\n",
    "\n",
    "[Início ↑](#Sumário)\n"
   ]
  },
  {
   "cell_type": "code",
   "execution_count": 6,
   "id": "02cb82df",
   "metadata": {},
   "outputs": [],
   "source": [
    "X_kc2 = kc2[:, :-1]\n",
    "y_kc2 = kc2[:, -1:]"
   ]
  },
  {
   "cell_type": "markdown",
   "id": "8d6bda73",
   "metadata": {},
   "source": [
    "#### KNN (Euclidian)\n"
   ]
  },
  {
   "cell_type": "code",
   "execution_count": 7,
   "id": "a04fa0bd",
   "metadata": {},
   "outputs": [
    {
     "name": "stdout",
     "output_type": "stream",
     "text": [
      "---------------------------------------------------\n",
      " KNN()\n",
      "--------------------------------------------------\n",
      " Precision: 0.75409 ± 0.13996\n",
      " Accuracy.: 0.71385 ± 0.098159\n",
      " Recall...: 0.68665 ± 0.12732\n",
      " F1-score.: 0.59535 ± 0.053811\n"
     ]
    }
   ],
   "source": [
    "clf = KNN(k=1)\n",
    "_ = cross_val(clf, X_kc2, y_kc2, stats=True, progress=True)"
   ]
  },
  {
   "cell_type": "code",
   "execution_count": 8,
   "id": "77810e07",
   "metadata": {
    "scrolled": true
   },
   "outputs": [
    {
     "name": "stdout",
     "output_type": "stream",
     "text": [
      "---------------------------------------------------\n",
      " KNN(k=5)\n",
      "--------------------------------------------------\n",
      " Precision: 0.59893 ± 0.11264\n",
      " Accuracy.: 0.65022 ± 0.091996\n",
      " Recall...: 0.94246 ± 0.063709\n",
      " F1-score.: 0.5402 ± 0.047015\n"
     ]
    }
   ],
   "source": [
    "clf = KNN(k=5)\n",
    "_ = cross_val(clf, X_kc2, y_kc2, stats=True, progress=True)"
   ]
  },
  {
   "cell_type": "markdown",
   "id": "46e56bbe",
   "metadata": {},
   "source": [
    "#### KNN (Mahalanobis)"
   ]
  },
  {
   "cell_type": "code",
   "execution_count": 9,
   "id": "a50cc81d",
   "metadata": {
    "scrolled": true
   },
   "outputs": [
    {
     "name": "stdout",
     "output_type": "stream",
     "text": [
      "---------------------------------------------------\n",
      " KNN(f_distance='mahalanobis')\n",
      "--------------------------------------------------\n",
      " Precision: 0.50771 ± 0.12259\n",
      " Accuracy.: 0.5145 ± 0.099807\n",
      " Recall...: 0.81406 ± 0.17987\n",
      " F1-score.: 0.49473 ± 0.075923\n"
     ]
    }
   ],
   "source": [
    "clf = KNN(k=1, f_distance=KNN.MAHALANOBIS)\n",
    "_ = cross_val(clf, X_kc2, y_kc2, stats=True, progress=True)"
   ]
  },
  {
   "cell_type": "code",
   "execution_count": 10,
   "id": "e26d0e8e",
   "metadata": {
    "scrolled": true
   },
   "outputs": [
    {
     "name": "stdout",
     "output_type": "stream",
     "text": [
      "---------------------------------------------------\n",
      " KNN(f_distance='mahalanobis', k=5)\n",
      "--------------------------------------------------\n",
      " Precision: 0.50173 ± 0.11204\n",
      " Accuracy.: 0.50173 ± 0.11204\n",
      " Recall...: 1.0 ± 0.0\n",
      " F1-score.: 0.49463 ± 0.056145\n"
     ]
    }
   ],
   "source": [
    "clf = KNN(k=5, f_distance=KNN.MAHALANOBIS)\n",
    "_ = cross_val(clf, X_kc2, y_kc2, stats=True, progress=True)"
   ]
  },
  {
   "cell_type": "markdown",
   "id": "5294e6ac",
   "metadata": {},
   "source": [
    "#### Árvore de decisão\n"
   ]
  },
  {
   "cell_type": "code",
   "execution_count": 11,
   "id": "b087efaa",
   "metadata": {},
   "outputs": [],
   "source": [
    "# https://scikit-learn.org/stable/modules/generated/sklearn.tree.DecisionTreeClassifier.html\n",
    "from sklearn.tree import DecisionTreeClassifier as TreeClf"
   ]
  },
  {
   "cell_type": "code",
   "execution_count": 12,
   "id": "26a88c6f",
   "metadata": {},
   "outputs": [
    {
     "name": "stdout",
     "output_type": "stream",
     "text": [
      "---------------------------------------------------\n",
      " DecisionTreeClassifier()\n",
      "--------------------------------------------------\n",
      " Precision: 0.68032 ± 0.1269\n",
      " Accuracy.: 0.69675 ± 0.092399\n",
      " Recall...: 0.75361 ± 0.13272\n",
      " F1-score.: 0.57128 ± 0.047602\n"
     ]
    }
   ],
   "source": [
    "clf = TreeClf()\n",
    "_ = cross_val(clf, X_kc2, y_kc2, stats=True, progress=True)"
   ]
  },
  {
   "cell_type": "code",
   "execution_count": 14,
   "id": "79298eaa",
   "metadata": {},
   "outputs": [
    {
     "name": "stdout",
     "output_type": "stream",
     "text": [
      "---------------------------------------------------\n",
      " DecisionTreeClassifier(criterion='entropy')\n",
      "--------------------------------------------------\n",
      " Precision: 0.68601 ± 0.12058\n",
      " Accuracy.: 0.69156 ± 0.081761\n",
      " Recall...: 0.73793 ± 0.14091\n",
      " F1-score.: 0.57371 ± 0.046425\n"
     ]
    }
   ],
   "source": [
    "clf = TreeClf(criterion=\"entropy\")\n",
    "cm = cross_val(clf, X_kc2, y_kc2, stats=True, progress=True)"
   ]
  }
 ],
 "metadata": {
  "kernelspec": {
   "display_name": "Python 3 (ipykernel)",
   "language": "python",
   "name": "python3"
  },
  "language_info": {
   "codemirror_mode": {
    "name": "ipython",
    "version": 3
   },
   "file_extension": ".py",
   "mimetype": "text/x-python",
   "name": "python",
   "nbconvert_exporter": "python",
   "pygments_lexer": "ipython3",
   "version": "3.8.10"
  }
 },
 "nbformat": 4,
 "nbformat_minor": 5
}
